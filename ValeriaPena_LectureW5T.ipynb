{
 "cells": [
  {
   "cell_type": "markdown",
   "metadata": {},
   "source": [
    "# Fitting a line to data\n",
    "\n",
    "I collected data from my thermocouple (thermometer) and I would like to define what my temperature curve is for a given voltage. I need a fit of my measurements to know that when I readout a voltage temperature that corresponds to a specific temperature.\n",
    "\n",
    "I need the slope of the line to create a calibration for Voltage/Kelvin.  \n",
    "\n",
    "I can compare this value of the slope to a known quantity to verify that my thermocouple is working properly.\n",
    "\n",
    "Note this a madeup example for numbers, etc. though it is to show you how to think about using the fits that you create."
   ]
  },
  {
   "cell_type": "markdown",
   "metadata": {},
   "source": [
    "### importing packages"
   ]
  },
  {
   "cell_type": "code",
   "execution_count": 1,
   "metadata": {},
   "outputs": [],
   "source": [
    "import matplotlib.pyplot as plt\n",
    "from matplotlib import pylab\n",
    "\n",
    "import numpy as np\n",
    "from scipy import stats"
   ]
  },
  {
   "cell_type": "markdown",
   "metadata": {},
   "source": [
    "### Data collected"
   ]
  },
  {
   "cell_type": "code",
   "execution_count": 2,
   "metadata": {},
   "outputs": [
    {
     "name": "stdout",
     "output_type": "stream",
     "text": [
      "Voltage [V]:  [1.1 1.2 1.3 1.4 1.5 1.6 1.7 1.8 1.9]\n",
      "Temperature [K]:  [150 175 200 225 250 275 300 325 240]\n"
     ]
    }
   ],
   "source": [
    "Voltage_V = np.array([1.1,1.2,1.30,1.40,1.50,1.60,1.70,1.80,1.90])\n",
    "Temperature_K = np.array([150, 175, 200, 225, 250, 275, 300, 325, 240])\n",
    "\n",
    "print('Voltage [V]: ', Voltage_V)\n",
    "print('Temperature [K]: ', Temperature_K)"
   ]
  },
  {
   "cell_type": "code",
   "execution_count": 3,
   "metadata": {},
   "outputs": [],
   "source": [
    "# Generated linear fit\n",
    "slope, intercept, r_value, p_value, std_err = stats.linregress(Voltage_V,Temperature_K)\n",
    "line_fit = slope*Voltage_V+intercept"
   ]
  },
  {
   "cell_type": "code",
   "execution_count": 4,
   "metadata": {},
   "outputs": [
    {
     "name": "stdout",
     "output_type": "stream",
     "text": [
      "Slope :  176.66666666666666\n",
      "Intercept :  -27.22222222222223\n",
      "R_value :  0.8445388528002272\n",
      "p_value :  0.0041752322143529365\n",
      "std_error :  42.33901974057257\n"
     ]
    }
   ],
   "source": [
    "print('Slope : ',slope)\n",
    "print('Intercept : ', intercept)\n",
    "print('R_value : ', r_value)\n",
    "print('p_value : ', p_value)\n",
    "print('std_error : ', std_err)"
   ]
  },
  {
   "cell_type": "markdown",
   "metadata": {},
   "source": [
    "### The calibration for data set 1 is 176.7 K/V"
   ]
  },
  {
   "cell_type": "markdown",
   "metadata": {},
   "source": [
    "### Using the calibration/slope\n",
    "- New Voltage is the same for all three data sets"
   ]
  },
  {
   "cell_type": "code",
   "execution_count": 16,
   "metadata": {},
   "outputs": [
    {
     "name": "stdout",
     "output_type": "stream",
     "text": [
      "New Temperature Measurement [K] 265.0374444444444\n"
     ]
    }
   ],
   "source": [
    "New_Voltage_V = 1.6543\n",
    "New_Temp_K = (New_Voltage_V*slope) + intercept\n",
    "\n",
    "print('New Temperature Measurement [K]',New_Temp_K)"
   ]
  },
  {
   "cell_type": "markdown",
   "metadata": {},
   "source": [
    "### Plotting my data vs. my fit"
   ]
  },
  {
   "cell_type": "code",
   "execution_count": 59,
   "metadata": {},
   "outputs": [
    {
     "data": {
      "image/png": "[encoded data removed]",
      "text/plain": [
       "<Figure size 432x288 with 1 Axes>"
      ]
     },
     "metadata": {
      "needs_background": "light"
     },
     "output_type": "display_data"
    }
   ],
   "source": [
    "plt.plot(Voltage_V,Temperature_K,'go', label=\"Temperature Sensor #1\")\n",
    "plt.plot(Voltage_V, line_fit,'c--',label=\"\")\n",
    "plt.xlabel(\"Voltage [v]\")\n",
    "plt.ylabel(\"Temperature [K]\")\n",
    "plt.title('Temperature Calibration')\n",
    "_ = plt.legend()\n",
    "plt.show()"
   ]
  },
  {
   "cell_type": "markdown",
   "metadata": {},
   "source": [
    "### Data 2 collected"
   ]
  },
  {
   "cell_type": "code",
   "execution_count": 6,
   "metadata": {},
   "outputs": [
    {
     "name": "stdout",
     "output_type": "stream",
     "text": [
      "Voltage2 [V]:  [1.1 1.2 1.3 1.4 1.5 1.6 1.7 1.8 1.9]\n",
      "Temperature2 [K]:  [190 200 205 215 220 230 235 255 240]\n"
     ]
    }
   ],
   "source": [
    "Voltage2_V = np.array([1.1,1.2,1.30,1.40,1.50,1.60,1.70,1.80,1.90])\n",
    "Temperature2_K = np.array([190, 200, 205, 215, 220, 230, 235, 255, 240])\n",
    "\n",
    "print('Voltage2 [V]: ', Voltage2_V)\n",
    "print('Temperature2 [K]: ', Temperature2_K)"
   ]
  },
  {
   "cell_type": "code",
   "execution_count": 10,
   "metadata": {},
   "outputs": [],
   "source": [
    "# Generated linear fit\n",
    "slope2, intercept2, r_value2, p_value2, std_err2 = stats.linregress(Voltage2_V,Temperature2_K)\n",
    "line2_fit = slope2*Voltage2_V+intercept2"
   ]
  },
  {
   "cell_type": "code",
   "execution_count": 11,
   "metadata": {},
   "outputs": [
    {
     "name": "stdout",
     "output_type": "stream",
     "text": [
      "Slope2 :  73.33333333333334\n",
      "Intercept2 :  111.1111111111111\n",
      "R_value2 :  0.9616864168382593\n",
      "p_value2 :  3.491262649292686e-05\n",
      "std_error2 :  7.901510136288027\n"
     ]
    }
   ],
   "source": [
    "print('Slope2 : ',slope2)\n",
    "print('Intercept2 : ', intercept2)\n",
    "print('R_value2 : ', r_value2)\n",
    "print('p_value2 : ', p_value2)\n",
    "print('std_error2 : ', std_err2)"
   ]
  },
  {
   "cell_type": "markdown",
   "metadata": {},
   "source": [
    "### The calibration for data set 2 is 73.3 K/V"
   ]
  },
  {
   "cell_type": "markdown",
   "metadata": {},
   "source": [
    "### Using the calibration/slope2\n",
    "- New Voltage is the same for all three data sets"
   ]
  },
  {
   "cell_type": "code",
   "execution_count": 20,
   "metadata": {},
   "outputs": [
    {
     "name": "stdout",
     "output_type": "stream",
     "text": [
      "New Temperature2 Measurement [K] 232.42644444444446\n"
     ]
    }
   ],
   "source": [
    "New_Voltage_V = 1.6543\n",
    "New_Temp2_K = (New_Voltage_V*slope2) + intercept2\n",
    "\n",
    "print('New Temperature2 Measurement [K]',New_Temp2_K)"
   ]
  },
  {
   "cell_type": "markdown",
   "metadata": {},
   "source": [
    "### Plotting my data 2 vs. my fit 2"
   ]
  },
  {
   "cell_type": "code",
   "execution_count": 58,
   "metadata": {},
   "outputs": [
    {
     "data": {
      "image/png": "[encoded data removed]",
      "text/plain": [
       "<Figure size 432x288 with 1 Axes>"
      ]
     },
     "metadata": {
      "needs_background": "light"
     },
     "output_type": "display_data"
    }
   ],
   "source": [
    "plt.plot(Voltage2_V,Temperature2_K,'r^', label=\"Temperature Sensor #2\")\n",
    "plt.plot(Voltage2_V, line2_fit,'c--',label=\"\")\n",
    "plt.xlabel(\"Voltage [v]\")\n",
    "plt.ylabel(\"Temperature [K]\")\n",
    "plt.title('Temperature 2 Calibration')\n",
    "_ = plt.legend()\n",
    "plt.show()"
   ]
  },
  {
   "cell_type": "markdown",
   "metadata": {},
   "source": [
    "### Data 3 collected"
   ]
  },
  {
   "cell_type": "code",
   "execution_count": 35,
   "metadata": {},
   "outputs": [
    {
     "name": "stdout",
     "output_type": "stream",
     "text": [
      "Voltage3 [V]:  [1.1 1.2 1.3 1.4 1.5 1.6 1.7 1.8 1.9]\n",
      "Temperature3 [K]:  [110 195 200 225 240 275 305 325 260]\n"
     ]
    }
   ],
   "source": [
    "Voltage3_V = np.array([1.1,1.2,1.30,1.40,1.50,1.60,1.70,1.80,1.90])\n",
    "Temperature3_K = np.array([110, 195, 200, 225, 240, 275, 305, 325, 260])\n",
    "\n",
    "print('Voltage3 [V]: ', Voltage3_V)\n",
    "print('Temperature3 [K]: ', Temperature3_K)"
   ]
  },
  {
   "cell_type": "code",
   "execution_count": 36,
   "metadata": {},
   "outputs": [],
   "source": [
    "# Generated linear fit\n",
    "slope3, intercept3, r_value3, p_value3, std_err3 = stats.linregress(Voltage3_V,Temperature3_K)\n",
    "line3_fit = slope3*Voltage3_V+intercept3"
   ]
  },
  {
   "cell_type": "code",
   "execution_count": 37,
   "metadata": {},
   "outputs": [
    {
     "name": "stdout",
     "output_type": "stream",
     "text": [
      "Slope3 :  208.33333333333337\n",
      "Intercept3 :  -75.27777777777783\n",
      "R_value3 :  0.8783381729249371\n",
      "p_value3 :  0.0018325566026817567\n",
      "std_error3 :  42.85604055019794\n"
     ]
    }
   ],
   "source": [
    "print('Slope3 : ',slope3)\n",
    "print('Intercept3 : ', intercept3)\n",
    "print('R_value3 : ', r_value3)\n",
    "print('p_value3 : ', p_value3)\n",
    "print('std_error3 : ', std_err3)"
   ]
  },
  {
   "cell_type": "markdown",
   "metadata": {},
   "source": [
    "### The calibration for data set 3 is 208.3 K/V"
   ]
  },
  {
   "cell_type": "markdown",
   "metadata": {},
   "source": [
    "### Using the calibration/slope3\n",
    "- New Voltage is the same for all three data sets"
   ]
  },
  {
   "cell_type": "code",
   "execution_count": 62,
   "metadata": {},
   "outputs": [
    {
     "name": "stdout",
     "output_type": "stream",
     "text": [
      "New Temperature Measurement [K] 269.3680555555556\n"
     ]
    }
   ],
   "source": [
    "New_Voltage_V = 1.6543\n",
    "New_Temp3_K = (New_Voltage_V*slope3) + intercept3\n",
    "\n",
    "print('New Temperature Measurement [K]',New_Temp3_K)"
   ]
  },
  {
   "cell_type": "markdown",
   "metadata": {},
   "source": [
    "### Plotting my data 3 vs. my fit 3"
   ]
  },
  {
   "cell_type": "code",
   "execution_count": 57,
   "metadata": {},
   "outputs": [
    {
     "data": {
      "image/png": "[encoded data removed]",
      "text/plain": [
       "<Figure size 432x288 with 1 Axes>"
      ]
     },
     "metadata": {
      "needs_background": "light"
     },
     "output_type": "display_data"
    }
   ],
   "source": [
    "plt.plot(Voltage3_V,Temperature3_K,'ys', label=\"Temperature Sensor #3\")\n",
    "plt.plot(Voltage3_V, line3_fit,'c--',label=\"\")\n",
    "plt.xlabel(\"Voltage [v]\")\n",
    "plt.ylabel(\"Temperature [K]\")\n",
    "plt.title('Temperature 3 Calibration')\n",
    "_ = plt.legend()\n",
    "plt.show()"
   ]
  },
  {
   "cell_type": "markdown",
   "metadata": {},
   "source": [
    "### Plotting  data 1, data 2, date 3 vs.  fit 2\n",
    "\n",
    "- fit 2 is the original fit from the TemperatureCalibration notebook.\n",
    "\n",
    "- I am just comparing the new temperatures to the original data and fit"
   ]
  },
  {
   "cell_type": "code",
   "execution_count": 56,
   "metadata": {},
   "outputs": [
    {
     "data": {
      "image/png": "[encoded data removed]",
      "text/plain": [
       "<Figure size 432x288 with 1 Axes>"
      ]
     },
     "metadata": {
      "needs_background": "light"
     },
     "output_type": "display_data"
    }
   ],
   "source": [
    "plt.plot(Voltage_V,Temperature_K,'go', label=\"Temperature Sensor #1\")\n",
    "plt.plot(Voltage_V, line2_fit,'c--',label=\"\")\n",
    "plt.plot(Voltage2_V,Temperature2_K,'r^', label=\"Temperature Sensor #2\")\n",
    "plt.plot(Voltage2_V, line2_fit,'c--',label=\"\")\n",
    "plt.plot(Voltage3_V,Temperature3_K,'ys', label=\"Temperature Sensor #3\")\n",
    "plt.plot(Voltage3_V, line2_fit,'c--',label=\"\")\n",
    "plt.xlabel(\"Voltage [v]\")\n",
    "plt.ylabel(\"Temperature [K]\")\n",
    "plt.title('Temperature Calibration')\n",
    "_ = plt.legend()\n",
    "plt.show()"
   ]
  },
  {
   "cell_type": "markdown",
   "metadata": {},
   "source": [
    "## Conclusion\n",
    "- I change the values for the temperatures 1 and 3. The voltage is the same for all three temperatures. The temperature sensor 1 and 3, do deviate from the fit line of the original data. In specific, temperature sensor 3 is not linear. The New temperature measurement for data set one, 265.0 K, and three, 269.4 K, is pretty close to 270 K; whereas, the new temperature measurement for data set two, 232.4 is closer to 230 K. I used the same new voltage, 1.6543 V, for all three data sets to calculate the new temperature. "
   ]
  },
  {
   "cell_type": "code",
   "execution_count": null,
   "metadata": {},
   "outputs": [],
   "source": []
  }
 ],
 "metadata": {
  "kernelspec": {
   "display_name": "Python 3",
   "language": "python",
   "name": "python3"
  },
  "language_info": {
   "codemirror_mode": {
    "name": "ipython",
    "version": 3
   },
   "file_extension": ".py",
   "mimetype": "text/x-python",
   "name": "python",
   "nbconvert_exporter": "python",
   "pygments_lexer": "ipython3",
   "version": "3.7.1"
  }
 },
 "nbformat": 4,
 "nbformat_minor": 2
}
